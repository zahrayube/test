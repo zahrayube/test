{
    "cells": [
        {
            "cell_type": "markdown",
            "metadata": {
                "collapsed": true
            },
            "source": "# My Jupyter Notebook on IBM Watson Studio"
        },
        {
            "cell_type": "markdown",
            "metadata": {},
            "source": "#### Zahra Yusah"
        },
        {
            "cell_type": "markdown",
            "metadata": {},
            "source": "Data Analyst"
        },
        {
            "cell_type": "markdown",
            "metadata": {},
            "source": "##### I am interested in Data Science because I get bored easily and this career will keep me learning new things and never get bored."
        },
        {
            "cell_type": "markdown",
            "metadata": {},
            "source": "### My code will print \"Hello World\""
        },
        {
            "cell_type": "code",
            "execution_count": 3,
            "metadata": {},
            "outputs": [
                {
                    "name": "stdout",
                    "output_type": "stream",
                    "text": "Hello World\n"
                }
            ],
            "source": "print(\"Hello World\")"
        },
        {
            "cell_type": "markdown",
            "metadata": {},
            "source": "### A Table, Horizontal rule, and Numbered List"
        },
        {
            "cell_type": "markdown",
            "metadata": {},
            "source": "Bucket List:|City|Country|Language\n---|---|---|---\n1.|Manila|Philippines|Tagalog\n---|---|---|---\n2.|Tokyo|Japan|Japanese\n---|---|---|---\n3.|San Fransisco|USA|English\n---|---|---|---\n4.|Paris|France|French"
        },
        {
            "cell_type": "code",
            "execution_count": null,
            "metadata": {},
            "outputs": [],
            "source": ""
        }
    ],
    "metadata": {
        "kernelspec": {
            "display_name": "Python 3.8",
            "language": "python",
            "name": "python3"
        },
        "language_info": {
            "codemirror_mode": {
                "name": "ipython",
                "version": 3
            },
            "file_extension": ".py",
            "mimetype": "text/x-python",
            "name": "python",
            "nbconvert_exporter": "python",
            "pygments_lexer": "ipython3",
            "version": "3.8.10"
        }
    },
    "nbformat": 4,
    "nbformat_minor": 1
}